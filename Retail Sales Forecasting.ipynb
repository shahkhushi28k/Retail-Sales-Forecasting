{
 "cells": [
  {
   "cell_type": "markdown",
   "id": "04bcf66d",
   "metadata": {
    "papermill": {
     "duration": 0.009213,
     "end_time": "2023-04-15T07:53:46.845594",
     "exception": false,
     "start_time": "2023-04-15T07:53:46.836381",
     "status": "completed"
    },
    "tags": []
   },
   "source": [
    "# SALES FORECASTING -  EDA"
   ]
  },
  {
   "cell_type": "markdown",
   "id": "2fbaf325",
   "metadata": {
    "papermill": {
     "duration": 0.007382,
     "end_time": "2023-04-15T07:53:46.861173",
     "exception": false,
     "start_time": "2023-04-15T07:53:46.853791",
     "status": "completed"
    },
    "tags": []
   },
   "source": [
    "# DATA SOURCE"
   ]
  },
  {
   "cell_type": "markdown",
   "id": "f6eb2b95",
   "metadata": {
    "papermill": {
     "duration": 0.007331,
     "end_time": "2023-04-15T07:53:46.876390",
     "exception": false,
     "start_time": "2023-04-15T07:53:46.869059",
     "status": "completed"
    },
    "tags": []
   },
   "source": [
    "This dataset is extracted from a Brazilian top retailer and has many SKUs and many stores."
   ]
  },
  {
   "cell_type": "markdown",
   "id": "29239c2d",
   "metadata": {
    "papermill": {
     "duration": 0.007377,
     "end_time": "2023-04-15T07:53:46.891601",
     "exception": false,
     "start_time": "2023-04-15T07:53:46.884224",
     "status": "completed"
    },
    "tags": []
   },
   "source": [
    "# PROBLEM STATEMENT"
   ]
  },
  {
   "cell_type": "markdown",
   "id": "7820c4b4",
   "metadata": {
    "papermill": {
     "duration": 0.00745,
     "end_time": "2023-04-15T07:53:46.906999",
     "exception": false,
     "start_time": "2023-04-15T07:53:46.899549",
     "status": "completed"
    },
    "tags": []
   },
   "source": [
    "Our Main Objective is to predict sales of store in a week. As in dataset size and time related data are given as feature, so analyze if sales are impacted by time-based factors and space- based factor.\n",
    "\n",
    "Most importantly how inclusion of holidays in a week soars the sales in store."
   ]
  },
  {
   "cell_type": "markdown",
   "id": "3520491e",
   "metadata": {
    "papermill": {
     "duration": 0.007315,
     "end_time": "2023-04-15T07:53:46.922078",
     "exception": false,
     "start_time": "2023-04-15T07:53:46.914763",
     "status": "completed"
    },
    "tags": []
   },
   "source": [
    "# WORK FLOW"
   ]
  },
  {
   "cell_type": "markdown",
   "id": "d4f1387c",
   "metadata": {
    "papermill": {
     "duration": 0.007261,
     "end_time": "2023-04-15T07:53:46.937265",
     "exception": false,
     "start_time": "2023-04-15T07:53:46.930004",
     "status": "completed"
    },
    "tags": []
   },
   "source": [
    "1. Gathering relevant data.\n",
    "2. Data Cleaning \n",
    "3. Data Exploration\n",
    "4. Relationship between Variables\n",
    "5. Data Visualization"
   ]
  },
  {
   "cell_type": "markdown",
   "id": "a9f2512b",
   "metadata": {
    "papermill": {
     "duration": 0.007264,
     "end_time": "2023-04-15T07:53:46.953413",
     "exception": false,
     "start_time": "2023-04-15T07:53:46.946149",
     "status": "completed"
    },
    "tags": []
   },
   "source": [
    "# Import Libraries and Data"
   ]
  },
  {
   "cell_type": "code",
   "execution_count": 1,
   "id": "594485c8",
   "metadata": {
    "execution": {
     "iopub.execute_input": "2023-04-15T07:53:46.971222Z",
     "iopub.status.busy": "2023-04-15T07:53:46.970497Z",
     "iopub.status.idle": "2023-04-15T07:53:46.980309Z",
     "shell.execute_reply": "2023-04-15T07:53:46.979247Z"
    },
    "papermill": {
     "duration": 0.021976,
     "end_time": "2023-04-15T07:53:46.983075",
     "exception": false,
     "start_time": "2023-04-15T07:53:46.961099",
     "status": "completed"
    },
    "tags": []
   },
   "outputs": [],
   "source": [
    "import numpy as np \n",
    "import pandas as pd\n",
    "import matplotlib.pyplot as plt"
   ]
  },
  {
   "cell_type": "code",
   "execution_count": 2,
   "id": "9fb90f46",
   "metadata": {
    "execution": {
     "iopub.execute_input": "2023-04-15T07:53:47.001831Z",
     "iopub.status.busy": "2023-04-15T07:53:47.001345Z",
     "iopub.status.idle": "2023-04-15T07:53:47.088710Z",
     "shell.execute_reply": "2023-04-15T07:53:47.086727Z"
    },
    "papermill": {
     "duration": 0.100593,
     "end_time": "2023-04-15T07:53:47.091638",
     "exception": true,
     "start_time": "2023-04-15T07:53:46.991045",
     "status": "failed"
    },
    "tags": []
   },
   "outputs": [
    {
     "ename": "FileNotFoundError",
     "evalue": "[Errno 2] No such file or directory: 'retailSaleForecasting.csv'",
     "output_type": "error",
     "traceback": [
      "\u001b[0;31m---------------------------------------------------------------------------\u001b[0m",
      "\u001b[0;31mFileNotFoundError\u001b[0m                         Traceback (most recent call last)",
      "\u001b[0;32m/tmp/ipykernel_20/2650533675.py\u001b[0m in \u001b[0;36m<module>\u001b[0;34m\u001b[0m\n\u001b[0;32m----> 1\u001b[0;31m \u001b[0msales\u001b[0m \u001b[0;34m=\u001b[0m \u001b[0mpd\u001b[0m\u001b[0;34m.\u001b[0m\u001b[0mread_csv\u001b[0m\u001b[0;34m(\u001b[0m\u001b[0;34m'retailSaleForecasting.csv'\u001b[0m\u001b[0;34m)\u001b[0m\u001b[0;34m\u001b[0m\u001b[0;34m\u001b[0m\u001b[0m\n\u001b[0m\u001b[1;32m      2\u001b[0m \u001b[0msales\u001b[0m\u001b[0;34m.\u001b[0m\u001b[0mhead\u001b[0m\u001b[0;34m(\u001b[0m\u001b[0;34m)\u001b[0m\u001b[0;34m\u001b[0m\u001b[0;34m\u001b[0m\u001b[0m\n",
      "\u001b[0;32m/opt/conda/lib/python3.7/site-packages/pandas/util/_decorators.py\u001b[0m in \u001b[0;36mwrapper\u001b[0;34m(*args, **kwargs)\u001b[0m\n\u001b[1;32m    309\u001b[0m                     \u001b[0mstacklevel\u001b[0m\u001b[0;34m=\u001b[0m\u001b[0mstacklevel\u001b[0m\u001b[0;34m,\u001b[0m\u001b[0;34m\u001b[0m\u001b[0;34m\u001b[0m\u001b[0m\n\u001b[1;32m    310\u001b[0m                 )\n\u001b[0;32m--> 311\u001b[0;31m             \u001b[0;32mreturn\u001b[0m \u001b[0mfunc\u001b[0m\u001b[0;34m(\u001b[0m\u001b[0;34m*\u001b[0m\u001b[0margs\u001b[0m\u001b[0;34m,\u001b[0m \u001b[0;34m**\u001b[0m\u001b[0mkwargs\u001b[0m\u001b[0;34m)\u001b[0m\u001b[0;34m\u001b[0m\u001b[0;34m\u001b[0m\u001b[0m\n\u001b[0m\u001b[1;32m    312\u001b[0m \u001b[0;34m\u001b[0m\u001b[0m\n\u001b[1;32m    313\u001b[0m         \u001b[0;32mreturn\u001b[0m \u001b[0mwrapper\u001b[0m\u001b[0;34m\u001b[0m\u001b[0;34m\u001b[0m\u001b[0m\n",
      "\u001b[0;32m/opt/conda/lib/python3.7/site-packages/pandas/io/parsers/readers.py\u001b[0m in \u001b[0;36mread_csv\u001b[0;34m(filepath_or_buffer, sep, delimiter, header, names, index_col, usecols, squeeze, prefix, mangle_dupe_cols, dtype, engine, converters, true_values, false_values, skipinitialspace, skiprows, skipfooter, nrows, na_values, keep_default_na, na_filter, verbose, skip_blank_lines, parse_dates, infer_datetime_format, keep_date_col, date_parser, dayfirst, cache_dates, iterator, chunksize, compression, thousands, decimal, lineterminator, quotechar, quoting, doublequote, escapechar, comment, encoding, encoding_errors, dialect, error_bad_lines, warn_bad_lines, on_bad_lines, delim_whitespace, low_memory, memory_map, float_precision, storage_options)\u001b[0m\n\u001b[1;32m    584\u001b[0m     \u001b[0mkwds\u001b[0m\u001b[0;34m.\u001b[0m\u001b[0mupdate\u001b[0m\u001b[0;34m(\u001b[0m\u001b[0mkwds_defaults\u001b[0m\u001b[0;34m)\u001b[0m\u001b[0;34m\u001b[0m\u001b[0;34m\u001b[0m\u001b[0m\n\u001b[1;32m    585\u001b[0m \u001b[0;34m\u001b[0m\u001b[0m\n\u001b[0;32m--> 586\u001b[0;31m     \u001b[0;32mreturn\u001b[0m \u001b[0m_read\u001b[0m\u001b[0;34m(\u001b[0m\u001b[0mfilepath_or_buffer\u001b[0m\u001b[0;34m,\u001b[0m \u001b[0mkwds\u001b[0m\u001b[0;34m)\u001b[0m\u001b[0;34m\u001b[0m\u001b[0;34m\u001b[0m\u001b[0m\n\u001b[0m\u001b[1;32m    587\u001b[0m \u001b[0;34m\u001b[0m\u001b[0m\n\u001b[1;32m    588\u001b[0m \u001b[0;34m\u001b[0m\u001b[0m\n",
      "\u001b[0;32m/opt/conda/lib/python3.7/site-packages/pandas/io/parsers/readers.py\u001b[0m in \u001b[0;36m_read\u001b[0;34m(filepath_or_buffer, kwds)\u001b[0m\n\u001b[1;32m    480\u001b[0m \u001b[0;34m\u001b[0m\u001b[0m\n\u001b[1;32m    481\u001b[0m     \u001b[0;31m# Create the parser.\u001b[0m\u001b[0;34m\u001b[0m\u001b[0;34m\u001b[0m\u001b[0;34m\u001b[0m\u001b[0m\n\u001b[0;32m--> 482\u001b[0;31m     \u001b[0mparser\u001b[0m \u001b[0;34m=\u001b[0m \u001b[0mTextFileReader\u001b[0m\u001b[0;34m(\u001b[0m\u001b[0mfilepath_or_buffer\u001b[0m\u001b[0;34m,\u001b[0m \u001b[0;34m**\u001b[0m\u001b[0mkwds\u001b[0m\u001b[0;34m)\u001b[0m\u001b[0;34m\u001b[0m\u001b[0;34m\u001b[0m\u001b[0m\n\u001b[0m\u001b[1;32m    483\u001b[0m \u001b[0;34m\u001b[0m\u001b[0m\n\u001b[1;32m    484\u001b[0m     \u001b[0;32mif\u001b[0m \u001b[0mchunksize\u001b[0m \u001b[0;32mor\u001b[0m \u001b[0miterator\u001b[0m\u001b[0;34m:\u001b[0m\u001b[0;34m\u001b[0m\u001b[0;34m\u001b[0m\u001b[0m\n",
      "\u001b[0;32m/opt/conda/lib/python3.7/site-packages/pandas/io/parsers/readers.py\u001b[0m in \u001b[0;36m__init__\u001b[0;34m(self, f, engine, **kwds)\u001b[0m\n\u001b[1;32m    809\u001b[0m             \u001b[0mself\u001b[0m\u001b[0;34m.\u001b[0m\u001b[0moptions\u001b[0m\u001b[0;34m[\u001b[0m\u001b[0;34m\"has_index_names\"\u001b[0m\u001b[0;34m]\u001b[0m \u001b[0;34m=\u001b[0m \u001b[0mkwds\u001b[0m\u001b[0;34m[\u001b[0m\u001b[0;34m\"has_index_names\"\u001b[0m\u001b[0;34m]\u001b[0m\u001b[0;34m\u001b[0m\u001b[0;34m\u001b[0m\u001b[0m\n\u001b[1;32m    810\u001b[0m \u001b[0;34m\u001b[0m\u001b[0m\n\u001b[0;32m--> 811\u001b[0;31m         \u001b[0mself\u001b[0m\u001b[0;34m.\u001b[0m\u001b[0m_engine\u001b[0m \u001b[0;34m=\u001b[0m \u001b[0mself\u001b[0m\u001b[0;34m.\u001b[0m\u001b[0m_make_engine\u001b[0m\u001b[0;34m(\u001b[0m\u001b[0mself\u001b[0m\u001b[0;34m.\u001b[0m\u001b[0mengine\u001b[0m\u001b[0;34m)\u001b[0m\u001b[0;34m\u001b[0m\u001b[0;34m\u001b[0m\u001b[0m\n\u001b[0m\u001b[1;32m    812\u001b[0m \u001b[0;34m\u001b[0m\u001b[0m\n\u001b[1;32m    813\u001b[0m     \u001b[0;32mdef\u001b[0m \u001b[0mclose\u001b[0m\u001b[0;34m(\u001b[0m\u001b[0mself\u001b[0m\u001b[0;34m)\u001b[0m\u001b[0;34m:\u001b[0m\u001b[0;34m\u001b[0m\u001b[0;34m\u001b[0m\u001b[0m\n",
      "\u001b[0;32m/opt/conda/lib/python3.7/site-packages/pandas/io/parsers/readers.py\u001b[0m in \u001b[0;36m_make_engine\u001b[0;34m(self, engine)\u001b[0m\n\u001b[1;32m   1038\u001b[0m             )\n\u001b[1;32m   1039\u001b[0m         \u001b[0;31m# error: Too many arguments for \"ParserBase\"\u001b[0m\u001b[0;34m\u001b[0m\u001b[0;34m\u001b[0m\u001b[0;34m\u001b[0m\u001b[0m\n\u001b[0;32m-> 1040\u001b[0;31m         \u001b[0;32mreturn\u001b[0m \u001b[0mmapping\u001b[0m\u001b[0;34m[\u001b[0m\u001b[0mengine\u001b[0m\u001b[0;34m]\u001b[0m\u001b[0;34m(\u001b[0m\u001b[0mself\u001b[0m\u001b[0;34m.\u001b[0m\u001b[0mf\u001b[0m\u001b[0;34m,\u001b[0m \u001b[0;34m**\u001b[0m\u001b[0mself\u001b[0m\u001b[0;34m.\u001b[0m\u001b[0moptions\u001b[0m\u001b[0;34m)\u001b[0m  \u001b[0;31m# type: ignore[call-arg]\u001b[0m\u001b[0;34m\u001b[0m\u001b[0;34m\u001b[0m\u001b[0m\n\u001b[0m\u001b[1;32m   1041\u001b[0m \u001b[0;34m\u001b[0m\u001b[0m\n\u001b[1;32m   1042\u001b[0m     \u001b[0;32mdef\u001b[0m \u001b[0m_failover_to_python\u001b[0m\u001b[0;34m(\u001b[0m\u001b[0mself\u001b[0m\u001b[0;34m)\u001b[0m\u001b[0;34m:\u001b[0m\u001b[0;34m\u001b[0m\u001b[0;34m\u001b[0m\u001b[0m\n",
      "\u001b[0;32m/opt/conda/lib/python3.7/site-packages/pandas/io/parsers/c_parser_wrapper.py\u001b[0m in \u001b[0;36m__init__\u001b[0;34m(self, src, **kwds)\u001b[0m\n\u001b[1;32m     49\u001b[0m \u001b[0;34m\u001b[0m\u001b[0m\n\u001b[1;32m     50\u001b[0m         \u001b[0;31m# open handles\u001b[0m\u001b[0;34m\u001b[0m\u001b[0;34m\u001b[0m\u001b[0;34m\u001b[0m\u001b[0m\n\u001b[0;32m---> 51\u001b[0;31m         \u001b[0mself\u001b[0m\u001b[0;34m.\u001b[0m\u001b[0m_open_handles\u001b[0m\u001b[0;34m(\u001b[0m\u001b[0msrc\u001b[0m\u001b[0;34m,\u001b[0m \u001b[0mkwds\u001b[0m\u001b[0;34m)\u001b[0m\u001b[0;34m\u001b[0m\u001b[0;34m\u001b[0m\u001b[0m\n\u001b[0m\u001b[1;32m     52\u001b[0m         \u001b[0;32massert\u001b[0m \u001b[0mself\u001b[0m\u001b[0;34m.\u001b[0m\u001b[0mhandles\u001b[0m \u001b[0;32mis\u001b[0m \u001b[0;32mnot\u001b[0m \u001b[0;32mNone\u001b[0m\u001b[0;34m\u001b[0m\u001b[0;34m\u001b[0m\u001b[0m\n\u001b[1;32m     53\u001b[0m \u001b[0;34m\u001b[0m\u001b[0m\n",
      "\u001b[0;32m/opt/conda/lib/python3.7/site-packages/pandas/io/parsers/base_parser.py\u001b[0m in \u001b[0;36m_open_handles\u001b[0;34m(self, src, kwds)\u001b[0m\n\u001b[1;32m    227\u001b[0m             \u001b[0mmemory_map\u001b[0m\u001b[0;34m=\u001b[0m\u001b[0mkwds\u001b[0m\u001b[0;34m.\u001b[0m\u001b[0mget\u001b[0m\u001b[0;34m(\u001b[0m\u001b[0;34m\"memory_map\"\u001b[0m\u001b[0;34m,\u001b[0m \u001b[0;32mFalse\u001b[0m\u001b[0;34m)\u001b[0m\u001b[0;34m,\u001b[0m\u001b[0;34m\u001b[0m\u001b[0;34m\u001b[0m\u001b[0m\n\u001b[1;32m    228\u001b[0m             \u001b[0mstorage_options\u001b[0m\u001b[0;34m=\u001b[0m\u001b[0mkwds\u001b[0m\u001b[0;34m.\u001b[0m\u001b[0mget\u001b[0m\u001b[0;34m(\u001b[0m\u001b[0;34m\"storage_options\"\u001b[0m\u001b[0;34m,\u001b[0m \u001b[0;32mNone\u001b[0m\u001b[0;34m)\u001b[0m\u001b[0;34m,\u001b[0m\u001b[0;34m\u001b[0m\u001b[0;34m\u001b[0m\u001b[0m\n\u001b[0;32m--> 229\u001b[0;31m             \u001b[0merrors\u001b[0m\u001b[0;34m=\u001b[0m\u001b[0mkwds\u001b[0m\u001b[0;34m.\u001b[0m\u001b[0mget\u001b[0m\u001b[0;34m(\u001b[0m\u001b[0;34m\"encoding_errors\"\u001b[0m\u001b[0;34m,\u001b[0m \u001b[0;34m\"strict\"\u001b[0m\u001b[0;34m)\u001b[0m\u001b[0;34m,\u001b[0m\u001b[0;34m\u001b[0m\u001b[0;34m\u001b[0m\u001b[0m\n\u001b[0m\u001b[1;32m    230\u001b[0m         )\n\u001b[1;32m    231\u001b[0m \u001b[0;34m\u001b[0m\u001b[0m\n",
      "\u001b[0;32m/opt/conda/lib/python3.7/site-packages/pandas/io/common.py\u001b[0m in \u001b[0;36mget_handle\u001b[0;34m(path_or_buf, mode, encoding, compression, memory_map, is_text, errors, storage_options)\u001b[0m\n\u001b[1;32m    705\u001b[0m                 \u001b[0mencoding\u001b[0m\u001b[0;34m=\u001b[0m\u001b[0mioargs\u001b[0m\u001b[0;34m.\u001b[0m\u001b[0mencoding\u001b[0m\u001b[0;34m,\u001b[0m\u001b[0;34m\u001b[0m\u001b[0;34m\u001b[0m\u001b[0m\n\u001b[1;32m    706\u001b[0m                 \u001b[0merrors\u001b[0m\u001b[0;34m=\u001b[0m\u001b[0merrors\u001b[0m\u001b[0;34m,\u001b[0m\u001b[0;34m\u001b[0m\u001b[0;34m\u001b[0m\u001b[0m\n\u001b[0;32m--> 707\u001b[0;31m                 \u001b[0mnewline\u001b[0m\u001b[0;34m=\u001b[0m\u001b[0;34m\"\"\u001b[0m\u001b[0;34m,\u001b[0m\u001b[0;34m\u001b[0m\u001b[0;34m\u001b[0m\u001b[0m\n\u001b[0m\u001b[1;32m    708\u001b[0m             )\n\u001b[1;32m    709\u001b[0m         \u001b[0;32melse\u001b[0m\u001b[0;34m:\u001b[0m\u001b[0;34m\u001b[0m\u001b[0;34m\u001b[0m\u001b[0m\n",
      "\u001b[0;31mFileNotFoundError\u001b[0m: [Errno 2] No such file or directory: 'retailSaleForecasting.csv'"
     ]
    }
   ],
   "source": [
    "sales = pd.read_csv('retailSaleForecasting.csv')\n",
    "sales.head()"
   ]
  },
  {
   "cell_type": "code",
   "execution_count": null,
   "id": "dc269316",
   "metadata": {
    "papermill": {
     "duration": null,
     "end_time": null,
     "exception": null,
     "start_time": null,
     "status": "pending"
    },
    "tags": []
   },
   "outputs": [],
   "source": [
    "sales = sales.rename(columns={'data' : 'Date', 'venda' : 'Sales', 'estoque' : 'Stock', 'preco' : 'Price'})\n",
    "print(sales.shape)\n",
    "sales.head()"
   ]
  },
  {
   "cell_type": "markdown",
   "id": "29346352",
   "metadata": {
    "papermill": {
     "duration": null,
     "end_time": null,
     "exception": null,
     "start_time": null,
     "status": "pending"
    },
    "tags": []
   },
   "source": [
    "# Data Cleaning"
   ]
  },
  {
   "cell_type": "markdown",
   "id": "8cd72434",
   "metadata": {
    "papermill": {
     "duration": null,
     "end_time": null,
     "exception": null,
     "start_time": null,
     "status": "pending"
    },
    "tags": []
   },
   "source": [
    "Let's make sure that there aren't any null values, or any unusable data."
   ]
  },
  {
   "cell_type": "code",
   "execution_count": null,
   "id": "8de36341",
   "metadata": {
    "papermill": {
     "duration": null,
     "end_time": null,
     "exception": null,
     "start_time": null,
     "status": "pending"
    },
    "tags": []
   },
   "outputs": [],
   "source": [
    "sales.isnull().sum()"
   ]
  },
  {
   "cell_type": "code",
   "execution_count": null,
   "id": "221a5825",
   "metadata": {
    "papermill": {
     "duration": null,
     "end_time": null,
     "exception": null,
     "start_time": null,
     "status": "pending"
    },
    "tags": []
   },
   "outputs": [],
   "source": [
    "sales.dtypes"
   ]
  },
  {
   "cell_type": "markdown",
   "id": "db0a5cfc",
   "metadata": {
    "papermill": {
     "duration": null,
     "end_time": null,
     "exception": null,
     "start_time": null,
     "status": "pending"
    },
    "tags": []
   },
   "source": [
    "converting Date to datetime, versus object"
   ]
  },
  {
   "cell_type": "code",
   "execution_count": null,
   "id": "d9239aa4",
   "metadata": {
    "papermill": {
     "duration": null,
     "end_time": null,
     "exception": null,
     "start_time": null,
     "status": "pending"
    },
    "tags": []
   },
   "outputs": [],
   "source": [
    "sales['Date'] = pd.to_datetime(sales['Date'], format='%d-%m-%Y')\n",
    "sales.dtypes"
   ]
  },
  {
   "cell_type": "code",
   "execution_count": null,
   "id": "2c597206",
   "metadata": {
    "papermill": {
     "duration": null,
     "end_time": null,
     "exception": null,
     "start_time": null,
     "status": "pending"
    },
    "tags": []
   },
   "outputs": [],
   "source": [
    "sales = sales.assign(Day = sales.Date.dt.day,\n",
    "               Month = sales.Date.dt.month,\n",
    "               Year = sales.Date.dt.year)\n",
    "sales['Revenue'] = sales['Sales'] * sales['Price']\n",
    "sales.dtypes"
   ]
  },
  {
   "cell_type": "code",
   "execution_count": null,
   "id": "1bb66493",
   "metadata": {
    "papermill": {
     "duration": null,
     "end_time": null,
     "exception": null,
     "start_time": null,
     "status": "pending"
    },
    "tags": []
   },
   "outputs": [],
   "source": [
    "sales.Year.value_counts()"
   ]
  },
  {
   "cell_type": "markdown",
   "id": "d0524e25",
   "metadata": {
    "papermill": {
     "duration": null,
     "end_time": null,
     "exception": null,
     "start_time": null,
     "status": "pending"
    },
    "tags": []
   },
   "source": [
    "# Data Exploration"
   ]
  },
  {
   "cell_type": "code",
   "execution_count": null,
   "id": "33447989",
   "metadata": {
    "papermill": {
     "duration": null,
     "end_time": null,
     "exception": null,
     "start_time": null,
     "status": "pending"
    },
    "tags": []
   },
   "outputs": [],
   "source": [
    "sales.corr()"
   ]
  },
  {
   "cell_type": "markdown",
   "id": "0fd8bcd5",
   "metadata": {
    "papermill": {
     "duration": null,
     "end_time": null,
     "exception": null,
     "start_time": null,
     "status": "pending"
    },
    "tags": []
   },
   "source": [
    "1. For Sales, there is some positive correlation between Year and Sales, and a little positive correlation between Sales and Stock. It seems that more stock leads to more sales, and sales have increased year over year.\n",
    "\n",
    "\n",
    "2. For Stock, there is some negative correlation between Month and Stock, and a little negative correlation between Year and Stock. As the year goes on, stock seems to diminish, and each year sees less stock available than previous years.\n",
    "\n",
    "\n",
    "3. For Price, the only correlation that really shows is between Price and Year. There is a slightly strong correlation between an increase in price as time goes by; perhaps, like a lesser amount of stock in later years.\n",
    "\n",
    "\n",
    "4. For Revenue, which should not come as a surprise, is very highly correlated to sales - you can't make money if you don't sell product. There is a moderate correlation to price, as well, but price is far less important in determining revenue than the number of sales.\n",
    "\n"
   ]
  },
  {
   "cell_type": "markdown",
   "id": "f88bd8ff",
   "metadata": {
    "papermill": {
     "duration": null,
     "end_time": null,
     "exception": null,
     "start_time": null,
     "status": "pending"
    },
    "tags": []
   },
   "source": [
    "--> Changes in Variables by Date"
   ]
  },
  {
   "cell_type": "code",
   "execution_count": null,
   "id": "8fac4ce5",
   "metadata": {
    "papermill": {
     "duration": null,
     "end_time": null,
     "exception": null,
     "start_time": null,
     "status": "pending"
    },
    "tags": []
   },
   "outputs": [],
   "source": [
    "fig, axs = plt.subplots(4, figsize = [14, 14])\n",
    "fig.suptitle('Variables per Year', fontsize = 18)\n",
    "axs[0].plot(sales.Date, sales.Price, color = 'gold')\n",
    "axs[0].set_title('Price', fontsize = 14)\n",
    "axs[1].plot(sales.Date, sales.Stock, color = 'red')\n",
    "axs[1].set_title('Stock', fontsize = 14)\n",
    "axs[2].plot(sales.Date, sales.Sales, color = 'black')\n",
    "axs[2].set_title('Sales', fontsize = 14)\n",
    "axs[3].plot(sales.Date, sales.Revenue, color = 'green')\n",
    "axs[3].set_title('Revenue', fontsize = 14)"
   ]
  },
  {
   "cell_type": "markdown",
   "id": "8f8e7637",
   "metadata": {
    "papermill": {
     "duration": null,
     "end_time": null,
     "exception": null,
     "start_time": null,
     "status": "pending"
    },
    "tags": []
   },
   "source": [
    "1. Price seems to be the most stable of all, with a minimal amount of sharp peaks and troughs, being better represented by plateaus.\n",
    "\n",
    "2. For stock, nothing seems extraordinary: stock climbs steeply as large shipments or orders are received, and then dwindles as sales are made.\n",
    "\n",
    "3. As for sales, it is the most volatile of all variables. It will be worth looking into specific days of the week to see what days are the most popular."
   ]
  },
  {
   "cell_type": "markdown",
   "id": "a8a5ac7d",
   "metadata": {
    "papermill": {
     "duration": null,
     "end_time": null,
     "exception": null,
     "start_time": null,
     "status": "pending"
    },
    "tags": []
   },
   "source": [
    "From the above plots we can say that there is no trend but there is seasonality"
   ]
  },
  {
   "cell_type": "code",
   "execution_count": null,
   "id": "71d06de5",
   "metadata": {
    "papermill": {
     "duration": null,
     "end_time": null,
     "exception": null,
     "start_time": null,
     "status": "pending"
    },
    "tags": []
   },
   "outputs": [],
   "source": [
    "#plot acf and pacf plots\n",
    "\n",
    "from statsmodels.graphics.tsaplots import plot_acf, plot_pacf"
   ]
  },
  {
   "cell_type": "code",
   "execution_count": null,
   "id": "9a8b2271",
   "metadata": {
    "papermill": {
     "duration": null,
     "end_time": null,
     "exception": null,
     "start_time": null,
     "status": "pending"
    },
    "tags": []
   },
   "outputs": [],
   "source": [
    "plot_acf(sales['Sales'], lags = 30, title='Autocorrelation for Sales', zero=False, auto_ylims=True)\n",
    "\n",
    "#ACF plot shows significant 10 lags "
   ]
  },
  {
   "cell_type": "code",
   "execution_count": null,
   "id": "60c46d90",
   "metadata": {
    "papermill": {
     "duration": null,
     "end_time": null,
     "exception": null,
     "start_time": null,
     "status": "pending"
    },
    "tags": []
   },
   "outputs": [],
   "source": [
    "plot_pacf(sales['Sales'], lags = 30, title='Partial Autocorrelation for Sales', zero=False, auto_ylims=True)\n",
    "\n",
    "\n",
    "#PACF plot shows significant 1 lag"
   ]
  },
  {
   "cell_type": "markdown",
   "id": "fb589036",
   "metadata": {
    "papermill": {
     "duration": null,
     "end_time": null,
     "exception": null,
     "start_time": null,
     "status": "pending"
    },
    "tags": []
   },
   "source": [
    "--> Data by Days"
   ]
  },
  {
   "cell_type": "code",
   "execution_count": null,
   "id": "ebb2a938",
   "metadata": {
    "papermill": {
     "duration": null,
     "end_time": null,
     "exception": null,
     "start_time": null,
     "status": "pending"
    },
    "tags": []
   },
   "outputs": [],
   "source": [
    "dsales = sales.groupby('Day').mean()\n",
    "dsales = dsales[['Sales', 'Stock', 'Price', 'Revenue']]"
   ]
  },
  {
   "cell_type": "code",
   "execution_count": null,
   "id": "5d0f6245",
   "metadata": {
    "papermill": {
     "duration": null,
     "end_time": null,
     "exception": null,
     "start_time": null,
     "status": "pending"
    },
    "tags": []
   },
   "outputs": [],
   "source": [
    "fig, axs = plt.subplots(2, 2 , figsize = [14, 14])\n",
    "fig.suptitle('Variables Over the Month', fontsize = 18)\n",
    "axs[0, 0].plot(dsales.index, dsales.Sales, color = 'black')\n",
    "axs[0, 0].set_title('Sales', fontsize = 14)\n",
    "axs[0, 1].plot(dsales.index, dsales.Stock, color = 'red')\n",
    "axs[0, 1].set_title('Stock', fontsize = 14)\n",
    "axs[1, 0].plot(dsales.index, dsales.Price, color = 'gold')\n",
    "axs[1, 0].set_title('Price', fontsize = 14)\n",
    "axs[1, 1].plot(dsales.index, dsales.Revenue, color = 'green')\n",
    "axs[1, 1].set_title('Revenue', fontsize = 14)"
   ]
  },
  {
   "cell_type": "code",
   "execution_count": null,
   "id": "224c9a28",
   "metadata": {
    "papermill": {
     "duration": null,
     "end_time": null,
     "exception": null,
     "start_time": null,
     "status": "pending"
    },
    "tags": []
   },
   "outputs": [],
   "source": [
    "dsm = dsales\n",
    "dsm['Price'] = dsm['Price'] * 1000\n",
    "dsm['Sales'] = dsm['Sales'] * 15\n",
    "dsm['Revenue'] = dsm['Revenue'] * 10\n",
    "dsm = dsm.reset_index()"
   ]
  },
  {
   "cell_type": "code",
   "execution_count": null,
   "id": "8f06d1ed",
   "metadata": {
    "papermill": {
     "duration": null,
     "end_time": null,
     "exception": null,
     "start_time": null,
     "status": "pending"
    },
    "tags": []
   },
   "outputs": [],
   "source": [
    "plt.figure(figsize=(16,8))\n",
    "plt.title('Relationship Between Variables', fontsize = 18)\n",
    "plt.plot('Day', 'Sales', data = dsm, color='black', linewidth=2, label = \"Sales\")\n",
    "plt.plot('Day', 'Price', data = dsm, color='gold', linewidth=2, label = \"Price\")\n",
    "plt.plot('Day', 'Stock', data = dsm, color='red', linewidth=2, label=\"Stock\")\n",
    "plt.plot('Day', 'Revenue', data = dsm, color='green', linewidth=2, label=\"Revenue\")\n",
    "plt.yticks([])\n",
    "plt.legend(fontsize = 12)"
   ]
  },
  {
   "cell_type": "markdown",
   "id": "4004721c",
   "metadata": {
    "papermill": {
     "duration": null,
     "end_time": null,
     "exception": null,
     "start_time": null,
     "status": "pending"
    },
    "tags": []
   },
   "source": [
    "1. It can be seen that sales (and, therefore, revenue) peak at the beginnings of the months, and have a minor uptick later in the months.\n",
    "\n",
    "2. Stock tends to get depleted towards the beginnings of the months, in two noticable waves, before slowly refilling throughout the rest of the month.\n",
    "\n",
    "3. Price tends to be slightly higher at the beginnings and ends of the months with a slump towards the middle of the month."
   ]
  },
  {
   "cell_type": "markdown",
   "id": "3b976c76",
   "metadata": {
    "papermill": {
     "duration": null,
     "end_time": null,
     "exception": null,
     "start_time": null,
     "status": "pending"
    },
    "tags": []
   },
   "source": [
    "--> Data by Month"
   ]
  },
  {
   "cell_type": "code",
   "execution_count": null,
   "id": "842d824e",
   "metadata": {
    "papermill": {
     "duration": null,
     "end_time": null,
     "exception": null,
     "start_time": null,
     "status": "pending"
    },
    "tags": []
   },
   "outputs": [],
   "source": [
    "msales = sales.groupby('Month').mean()\n",
    "msales = msales[['Sales', 'Stock', 'Price', 'Revenue']]"
   ]
  },
  {
   "cell_type": "code",
   "execution_count": null,
   "id": "cf7acf8e",
   "metadata": {
    "papermill": {
     "duration": null,
     "end_time": null,
     "exception": null,
     "start_time": null,
     "status": "pending"
    },
    "tags": []
   },
   "outputs": [],
   "source": [
    "fig, axs = plt.subplots(2, 2 , figsize = [14, 14])\n",
    "fig.suptitle('Variables by the Month', fontsize = 18)\n",
    "axs[0, 0].plot(msales.index, msales.Sales, color = 'black')\n",
    "axs[0, 0].set_title('Sales', fontsize = 14)\n",
    "axs[0, 1].plot(msales.index, msales.Stock, color = 'red')\n",
    "axs[0, 1].set_title('Stock', fontsize = 14)\n",
    "axs[1, 0].plot(msales.index, msales.Price, color = 'gold')\n",
    "axs[1, 0].set_title('Price', fontsize = 14)\n",
    "axs[1, 1].plot(msales.index, msales.Revenue, color = 'green')\n",
    "axs[1, 1].set_title('Revenue', fontsize = 14)"
   ]
  },
  {
   "cell_type": "markdown",
   "id": "cafb5b8a",
   "metadata": {
    "papermill": {
     "duration": null,
     "end_time": null,
     "exception": null,
     "start_time": null,
     "status": "pending"
    },
    "tags": []
   },
   "source": [
    "1. Sales peak in June and hit their bottom in August, both during the winter months (for the Southern Hemisphere).\n",
    "\n",
    "2. Stock, similar to data over the course of a month, begins with a much larger reserve and dwindles as the year continues.\n",
    "\n",
    "3. Price has two noticable peaks, at the start and end of the year - they may be much closer on a linear timeline than by the breakdown shown here.\n",
    "\n",
    "4. Revenue sees a more general climb towards its' peak than sales, without as much of a second peak late in the year, due to the lower value of price."
   ]
  },
  {
   "cell_type": "markdown",
   "id": "88ff54fc",
   "metadata": {
    "papermill": {
     "duration": null,
     "end_time": null,
     "exception": null,
     "start_time": null,
     "status": "pending"
    },
    "tags": []
   },
   "source": [
    "--> Top 5 Most Common Price Values"
   ]
  },
  {
   "cell_type": "code",
   "execution_count": null,
   "id": "1b12f5a1",
   "metadata": {
    "papermill": {
     "duration": null,
     "end_time": null,
     "exception": null,
     "start_time": null,
     "status": "pending"
    },
    "tags": []
   },
   "outputs": [],
   "source": [
    "### Only showing the 5 most common prices\n",
    "sales.Price.value_counts().head().plot(kind='bar', color = 'gold', figsize = (14, 8))"
   ]
  },
  {
   "cell_type": "markdown",
   "id": "8ee81574",
   "metadata": {
    "papermill": {
     "duration": null,
     "end_time": null,
     "exception": null,
     "start_time": null,
     "status": "pending"
    },
    "tags": []
   },
   "source": [
    "# CONCLUSION"
   ]
  },
  {
   "cell_type": "markdown",
   "id": "10ea2205",
   "metadata": {
    "papermill": {
     "duration": null,
     "end_time": null,
     "exception": null,
     "start_time": null,
     "status": "pending"
    },
    "tags": []
   },
   "source": [
    "Based on the data, the 7th of June should be expected to bring in the most money of the year, whereas the 24th of August should be expected to earn the least amount of money of the year.\n",
    "\n",
    "Stock should hit its' lowest points of the year in early November, while climbing to its' highest points in the middle through late February.\n",
    "\n",
    "Price should trough around the 15th of August, hitting its' lowest point, while peaking around the start and end of February."
   ]
  }
 ],
 "metadata": {
  "kernelspec": {
   "display_name": "Python 3",
   "language": "python",
   "name": "python3"
  },
  "language_info": {
   "codemirror_mode": {
    "name": "ipython",
    "version": 3
   },
   "file_extension": ".py",
   "mimetype": "text/x-python",
   "name": "python",
   "nbconvert_exporter": "python",
   "pygments_lexer": "ipython3",
   "version": "3.7.12"
  },
  "papermill": {
   "default_parameters": {},
   "duration": 12.107155,
   "end_time": "2023-04-15T07:53:47.824290",
   "environment_variables": {},
   "exception": true,
   "input_path": "__notebook__.ipynb",
   "output_path": "__notebook__.ipynb",
   "parameters": {},
   "start_time": "2023-04-15T07:53:35.717135",
   "version": "2.4.0"
  }
 },
 "nbformat": 4,
 "nbformat_minor": 5
}
